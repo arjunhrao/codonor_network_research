{
 "cells": [
  {
   "cell_type": "code",
   "execution_count": 55,
   "metadata": {},
   "outputs": [
    {
     "name": "stdout",
     "output_type": "stream",
     "text": [
      "starting program\n",
      "212\n",
      "22366\n",
      "1.0\n",
      "written\n"
     ]
    }
   ],
   "source": [
    "#read graph as edge list\n",
    "print('starting program')\n",
    "import networkx as nx\n",
    "import pandas as pd\n",
    "\n",
    "#codonor graph - nodes are recipients. Edges are number of donors in common.\n",
    "H1 = nx.read_edgelist('co_donor_test.txt',nodetype=str,delimiter='\\t!\\t')#data=(('number_of_codonors',int)))\n",
    "\n",
    "print(nx.number_of_nodes(H1) )#should be 212\n",
    "print( nx.number_of_edges(H1) )#should be 22366\n",
    "print(nx.density(H1) )\n",
    "\n",
    "#We want to relabel the nodes, replacing \"LastName, FirstName MiddleName MiddleName2\" with \"FirstName LastName\"\n",
    "def mapping(full_name):\n",
    "    \n",
    "    if (full_name == \"FOSTER, G. WILLIAM\"):\n",
    "        return \"G WILLIAM FOSTER\"#special case in terms of what is best in search results / shows up\n",
    "    \n",
    "    name = [x for x in full_name.split(',')]\n",
    "    #name must be of length two.\n",
    "    #The first 'name' is the lastname\n",
    "    lastName = name[0]\n",
    "    #rest of name is second part of 'name'. The firstName is that part split by spaces to get the first word\n",
    "    #note there is a preceding space\n",
    "    firstName = name[1].split(' ')[1]\n",
    "    #godammit there's someone named W Todd Akin\n",
    "    if (len(firstName) == 1 and len(name[1].split(' ')) > 2):#if we have 2+ names in the firstName middleName etc\n",
    "        firstName = name[1].split(' ')[2]\n",
    "    return firstName + \" \" + lastName\n",
    "\n",
    "H1=nx.relabel_nodes(H1,mapping)\n",
    "#print(H1.nodes())#Nodes change confirmed\n",
    "#print(H1.edges())#Edges change too.\n",
    "nx.write_edgelist(H1, \"co_donor_test.txt\", delimiter='\\t!\\t')\n",
    "print('written')\n"
   ]
  },
  {
   "cell_type": "code",
   "execution_count": 56,
   "metadata": {
    "collapsed": true
   },
   "outputs": [],
   "source": [
    "#get a list of the number of codonors\n",
    "num_codonors_list = []\n",
    "for e in H1.edges(data=True):\n",
    "    #e is a tuple\n",
    "    temp = (e[2])['number_of_codonors']\n",
    "    num_codonors_list.append(temp)\n",
    "#print(num_codonors_list)\n",
    "\n",
    "#get a list of the edges and sort by num codonors\n",
    "list_of_edges = []\n",
    "for e in H1.edges(data=True):\n",
    "    list_of_edges.append(e)\n",
    "list_of_edges = sorted(H1.edges(data=True), key=lambda tup: (tup[2]['number_of_codonors'],tup[1]) )#sort by number of codonors\n",
    "#should sort by the name of first node of edge one after this for consistency.\n",
    "\n",
    "\n",
    "#print(list_of_edges)\n"
   ]
  },
  {
   "cell_type": "code",
   "execution_count": 57,
   "metadata": {},
   "outputs": [
    {
     "name": "stdout",
     "output_type": "stream",
     "text": [
      "num_edges:\n",
      "22366\n",
      "1118.3\n",
      "high_bkt len:\n",
      "1118\n",
      "mid_bkt len:\n",
      "5591\n",
      "low_bkt len:\n",
      "15657\n"
     ]
    }
   ],
   "source": [
    "num_edges = len(list_of_edges)\n",
    "print(\"num_edges:\")\n",
    "print(num_edges)\n",
    "print(float(.05*num_edges))\n",
    "high_bkt = []#all edges above the 5% mark\n",
    "high_cutoff = num_edges - float(.05*num_edges)\n",
    "mid_bkt = []\n",
    "mid_cutoff = num_edges - float(.3*num_edges)\n",
    "low_bkt = []\n",
    "\n",
    "for e in range(num_edges):\n",
    "    if e >= high_cutoff:\n",
    "        high_bkt.append(list_of_edges[e])\n",
    "    elif e >= mid_cutoff:\n",
    "        mid_bkt.append(list_of_edges[e])\n",
    "    else:\n",
    "        low_bkt.append(list_of_edges[e])\n",
    "        \n",
    "#print(high_bkt)\n",
    "print(\"high_bkt len:\")\n",
    "print(len(high_bkt))\n",
    "print(\"mid_bkt len:\")\n",
    "print(len(mid_bkt))\n",
    "print(\"low_bkt len:\")\n",
    "print(len(low_bkt))"
   ]
  },
  {
   "cell_type": "code",
   "execution_count": 58,
   "metadata": {},
   "outputs": [
    {
     "name": "stdout",
     "output_type": "stream",
     "text": [
      "('DAVID GILL', 'ROBERT KERREY', {'number_of_codonors': 740})\n",
      "blah\n"
     ]
    }
   ],
   "source": [
    "\n",
    "#Figure out which edges to sample\n",
    "instanceNum = 2#same thing as like a machineNum\n",
    "start = 61\n",
    "end = 61+40\n",
    "#start = instanceNum*33\n",
    "#end = start + 33#we can technically do 33 edges safely\n",
    "#Note that if instanceNum were 1, we'd have [33:66].\n",
    "all_edges_to_sample = high_bkt[start:end]#partition based on machine number\n",
    "print(all_edges_to_sample[0])\n",
    "print(\"blah\")\n",
    "#print(H1.edges())"
   ]
  },
  {
   "cell_type": "code",
   "execution_count": 59,
   "metadata": {},
   "outputs": [
    {
     "name": "stdout",
     "output_type": "stream",
     "text": [
      "written\n"
     ]
    }
   ],
   "source": [
    "nx.write_edgelist(H1, \"co_donor_relabeled_nodes.txt\", delimiter='\\t!\\t')\n",
    "print('written')"
   ]
  },
  {
   "cell_type": "code",
   "execution_count": 60,
   "metadata": {
    "collapsed": true
   },
   "outputs": [],
   "source": [
    "#But on the other one it started with MARIA CANTWELL and ROBERT MENENDEZ\n",
    "#OK, I think this is because of ties - they both have 740 codonors - and the fact that the sorting is\n",
    "#done without regards to ties."
   ]
  },
  {
   "cell_type": "code",
   "execution_count": 63,
   "metadata": {},
   "outputs": [
    {
     "name": "stdout",
     "output_type": "stream",
     "text": [
      "1.584532149277013e-05 0.0006923076923076923 1.2474012474012473e-09\n"
     ]
    }
   ],
   "source": [
    "#manually calculating for a row that got left out\n",
    "num1 = 555000\n",
    "num2 = 13000\n",
    "numCommon = 9\n",
    "\n",
    "try:\n",
    "    jacInd = numCommon /(num1+num2-numCommon) #can still use / for regular division, but want decimals here.\n",
    "except ZeroDivisionError:\n",
    "    jacInd = -1\n",
    "\n",
    "try:\n",
    "    divMin = numCommon / min(num1, num2)\n",
    "except ZeroDivisionError:\n",
    "    divMin = -1\n",
    "try:\n",
    "    divProd = numCommon / (num1*num2)\n",
    "except:\n",
    "    divProd = -1\n",
    "    \n",
    "print(jacInd, divMin, divProd)\n"
   ]
  },
  {
   "cell_type": "code",
   "execution_count": 69,
   "metadata": {},
   "outputs": [
    {
     "name": "stdout",
     "output_type": "stream",
     "text": [
      "pickled\n",
      "{'ROBERT KERREY': 13000}\n"
     ]
    }
   ],
   "source": [
    "#testing pickle for purposes of a dict to increase efficiency\n",
    "\n",
    "import pickle \n",
    "names_to_results_dict = {\"ROBERT KERREY\" : 13000}\n",
    "with open('names_to_results_dict.pickle', 'wb') as handle:\n",
    "    pickle.dump(names_to_results_dict, handle, protocol=pickle.HIGHEST_PROTOCOL)\n",
    "print(\"pickled\")\n",
    "with open('names_to_results_dict.pickle', 'rb') as handle:\n",
    "    b = pickle.load(handle)\n",
    "    print(b)"
   ]
  },
  {
   "cell_type": "code",
   "execution_count": 76,
   "metadata": {},
   "outputs": [
    {
     "name": "stdout",
     "output_type": "stream",
     "text": [
      "  str1 str2  num_codonors  num1  num2  numCommon  jacInd  divMin  divProd  \\\n",
      "0    a    b           740     1     1          1       1       1        1   \n",
      "\n",
      "   instanceNum  \n",
      "0            3  \n",
      "     divMin       divProd  instanceNum   jacInd    num1    num2  numCommon  \\\n",
      "0  0.041003  9.090000e-08            3  0.01791  339000  451000      13900   \n",
      "\n",
      "   num_codonors            str1             str2  \n",
      "0           740  MARIA CANTWELL  ROBERT MENENDEZ  \n",
      "      divMin       divProd  instanceNum    jacInd   num1    num2  numCommon  \\\n",
      "30  0.000016  6.890000e-11            0  0.000003  63900  227000          1   \n",
      "\n",
      "    num_codonors          str1           str2  \n",
      "30           763  L. DUCKWORTH  RICHARD NOLAN  \n",
      "     divMin       divProd  instanceNum   jacInd    num1    num2  numCommon  \\\n",
      "0  0.041003  9.090000e-08            3  0.01791  339000  451000      13900   \n",
      "\n",
      "   num_codonors            str1             str2  \n",
      "0           740  MARIA CANTWELL  ROBERT MENENDEZ  \n"
     ]
    }
   ],
   "source": [
    "#testing row adding\n",
    "\n",
    "dfRes = pd.read_csv('./data/codonor_network_queries_instance_0_5.20_highbkt_edges.csv',index_col=0)\n",
    "#https://stackoverflow.com/questions/15653688/preserving-column-order-in-python-pandas-dataframe\n",
    "#Actually leave the column order, it's fine.\n",
    "dfRow = pd.DataFrame([['a','b',740,1,1,1,1,1,1,3]], \n",
    "                           columns = [\"str1\", \"str2\", \"num_codonors\", \"num1\", \"num2\", \"numCommon\", \"jacInd\", \"divMin\", \"divProd\", \"instanceNum\"])\n",
    "print(dfRow)\n",
    "print(dfRes.head(n=1))\n",
    "print(dfRes.tail(n=1))\n",
    "dfRes = dfRes.append(dfRow, ignore_index=True)\n",
    "dfRes = dfRes.append(dfRow, ignore_index=True)\n",
    "\n",
    "print(dfRes.head(n=1))\n",
    "savestr = './data/codonor_network_queries_instance!_0_5.20_highbkt_edges.csv'\n",
    "\n",
    "dfRes.to_csv(savestr)"
   ]
  },
  {
   "cell_type": "code",
   "execution_count": null,
   "metadata": {
    "collapsed": true
   },
   "outputs": [],
   "source": []
  }
 ],
 "metadata": {
  "kernelspec": {
   "display_name": "Python 3",
   "language": "python",
   "name": "python3"
  },
  "language_info": {
   "codemirror_mode": {
    "name": "ipython",
    "version": 3
   },
   "file_extension": ".py",
   "mimetype": "text/x-python",
   "name": "python",
   "nbconvert_exporter": "python",
   "pygments_lexer": "ipython3",
   "version": "3.6.1"
  }
 },
 "nbformat": 4,
 "nbformat_minor": 2
}
