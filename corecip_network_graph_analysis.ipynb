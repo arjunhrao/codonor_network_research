{
 "cells": [
  {
   "cell_type": "code",
   "execution_count": null,
   "metadata": {
    "collapsed": true
   },
   "outputs": [],
   "source": [
    "num_corecips_list = []\n",
    "for e in H1.edges(data=True):\n",
    "    #e is a tuple\n",
    "    temp = (e[2])['number_of_codonors']\n",
    "    num_corecips_list.append(temp)\n",
    "    if type(temp) != int:\n",
    "        print('str:',temp)\n",
    "\n",
    "#want to plot distribution of num_codonors, each element of which is a value in the affinity matrix\n",
    "\n",
    "\n",
    "import matplotlib.pyplot as plt\n",
    "import numpy as np\n",
    "\n",
    "data = sorted(num_corecips_list)\n",
    "plt.hist(data, bins=20)\n",
    "\n",
    "\n",
    "plt.show()\n",
    "\n",
    "print('done')\n",
    "#np.logspace(np.log10(0.1),np.log10(1.0),50)"
   ]
  }
 ],
 "metadata": {
  "kernelspec": {
   "display_name": "Python 3",
   "language": "python",
   "name": "python3"
  },
  "language_info": {
   "codemirror_mode": {
    "name": "ipython",
    "version": 3
   },
   "file_extension": ".py",
   "mimetype": "text/x-python",
   "name": "python",
   "nbconvert_exporter": "python",
   "pygments_lexer": "ipython3",
   "version": "3.5.1"
  }
 },
 "nbformat": 4,
 "nbformat_minor": 0
}
