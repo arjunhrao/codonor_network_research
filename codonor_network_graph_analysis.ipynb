{
 "cells": [
  {
   "cell_type": "code",
   "execution_count": 126,
   "metadata": {},
   "outputs": [
    {
     "name": "stdout",
     "output_type": "stream",
     "text": [
      "212\n",
      "22366\n",
      "1.0\n"
     ]
    }
   ],
   "source": [
    "import networkx as nx\n",
    "import pandas as pd\n",
    "\n",
    "H1 = nx.read_edgelist('co_donor_relabeled_nodes.txt',nodetype=str,delimiter='\\t!\\t')#data=(('number_of_codonors',int)))\n",
    "\n",
    "print(nx.number_of_nodes(H1) )#should be 212\n",
    "print( nx.number_of_edges(H1) )#should be 22366\n",
    "print(nx.density(H1) )\n"
   ]
  },
  {
   "cell_type": "code",
   "execution_count": 111,
   "metadata": {},
   "outputs": [],
   "source": [
    "#get a list of the number of codonors\n",
    "num_codonors_list = []\n",
    "for e in H1.edges(data=True):\n",
    "    #e is a tuple\n",
    "    temp = (e[2])['number_of_codonors']\n",
    "    num_codonors_list.append(temp)\n",
    "#print(num_codonors_list)\n",
    "\n",
    "#get a list of the edges and sort by num codonors\n",
    "list_of_edges = []\n",
    "for e in H1.edges(data=True):\n",
    "    list_of_edges.append(e)\n",
    "list_of_edges = sorted(H1.edges(data=True), key=lambda tup: tup[2]['number_of_codonors'])#sort by number of codonors\n",
    "#print(list_of_edges)\n",
    "#print(num_codonors_list)\n",
    "\n",
    "#sort\n",
    "num_codonors_list = sorted(num_codonors_list)\n"
   ]
  },
  {
   "cell_type": "code",
   "execution_count": 112,
   "metadata": {},
   "outputs": [
    {
     "name": "stdout",
     "output_type": "stream",
     "text": [
      "[  2.19680000e+04   2.52000000e+02   6.00000000e+01   3.00000000e+01\n",
      "   2.80000000e+01   1.20000000e+01   7.00000000e+00   2.00000000e+00\n",
      "   1.00000000e+00   1.00000000e+00   2.00000000e+00   1.00000000e+00\n",
      "   0.00000000e+00   0.00000000e+00   1.00000000e+00   0.00000000e+00\n",
      "   0.00000000e+00   0.00000000e+00   0.00000000e+00   1.00000000e+00]\n"
     ]
    },
    {
     "data": {
      "image/png": "[encoded data removed]",
      "text/plain": [
       "<Figure size 432x288 with 1 Axes>"
      ]
     },
     "metadata": {},
     "output_type": "display_data"
    },
    {
     "name": "stdout",
     "output_type": "stream",
     "text": [
      "[ 1353.  2506.  3301.  3507.  2900.  2314.  1882.  1318.   826.]\n"
     ]
    },
    {
     "data": {
      "image/png": "[encoded data removed]",
      "text/plain": [
       "<Figure size 432x288 with 1 Axes>"
      ]
     },
     "metadata": {},
     "output_type": "display_data"
    },
    {
     "name": "stdout",
     "output_type": "stream",
     "text": [
      "[ 1353.  2506.  3301.  3507.  2900.  2314.  1882.  1318.   826.]\n"
     ]
    },
    {
     "data": {
      "image/png": "[encoded data removed]",
      "text/plain": [
       "<Figure size 432x288 with 1 Axes>"
      ]
     },
     "metadata": {},
     "output_type": "display_data"
    },
    {
     "name": "stdout",
     "output_type": "stream",
     "text": [
      "('TAMMY BALDWIN', 'ELIZABETH WARREN', {'number_of_codonors': 40203})\n"
     ]
    }
   ],
   "source": [
    "#want to plot distribution of num_codonors, each element of which is a value in the affinity matrix\n",
    "import numpy as np\n",
    "import matplotlib.pyplot as plt\n",
    "import numpy as np\n",
    "\n",
    "#Bunch of 0's for initial ones. The last sorted values are:\n",
    "#..., 12946, 13815, 14003, 14022, 14520, 15825, 17183, 18845, 21054, 21388, 22655, 29957, 40203]\n",
    "\n",
    "#https://stackoverflow.com/questions/34291260/how-can-i-plot-multiple-figure-in-the-same-line-with-matplotlib\n",
    "#https://stackoverflow.com/questions/16392921/make-more-than-one-chart-in-same-ipython-notebook-cell\n",
    "#https://matplotlib.org/gallery/subplots_axes_and_figures/multiple_figs_demo.html\n",
    "\n",
    "data = sorted(num_codonors_list)\n",
    "counts, bins, bars = plt.hist(data, bins=20)\n",
    "print(counts)\n",
    "plt.show()\n",
    "\n",
    "bins = 2**(np.arange(0,10))\n",
    "#plt.xscale('log')\n",
    "counts, bins, bars = plt.hist(data,bins=bins)\n",
    "print(counts)\n",
    "plt.show()\n",
    "\n",
    "bins = 2**(np.arange(0,10))\n",
    "plt.xscale('log')\n",
    "counts, bins, bars = plt.hist(data,bins=bins)\n",
    "print(counts)\n",
    "plt.show()\n",
    "\n",
    "print(list_of_edges[-1])"
   ]
  },
  {
   "cell_type": "code",
   "execution_count": 113,
   "metadata": {},
   "outputs": [
    {
     "name": "stdout",
     "output_type": "stream",
     "text": [
      "[ 836.  162.   45.   26.   24.   11.    5.    2.    1.    1.    2.    1.\n",
      "    0.    0.    1.    0.    0.    0.    0.    1.]\n"
     ]
    },
    {
     "data": {
      "image/png": "[encoded data removed]",
      "text/plain": [
       "<Figure size 432x288 with 1 Axes>"
      ]
     },
     "metadata": {},
     "output_type": "display_data"
    },
    {
     "name": "stdout",
     "output_type": "stream",
     "text": [
      "[ 151.  157.  108.  104.   83.   68.   31.   30.   28.   22.    9.    3.\n",
      "    3.    1.]\n"
     ]
    },
    {
     "data": {
      "image/png": "[encoded data removed]",
      "text/plain": [
       "<Figure size 432x288 with 1 Axes>"
      ]
     },
     "metadata": {},
     "output_type": "display_data"
    },
    {
     "name": "stdout",
     "output_type": "stream",
     "text": [
      "[ 151.  157.  108.  104.   83.   68.   31.   30.   28.   22.    9.    3.\n",
      "    3.    1.]\n"
     ]
    },
    {
     "data": {
      "image/png": "[encoded data removed]",
      "text/plain": [
       "<Figure size 432x288 with 1 Axes>"
      ]
     },
     "metadata": {},
     "output_type": "display_data"
    }
   ],
   "source": [
    "data = sorted(num_codonors_list[-1118:])\n",
    "counts, bins, bars = plt.hist(data, bins=20)\n",
    "print(counts)\n",
    "plt.show()\n",
    "\n",
    "bins = 10**(np.linspace(3,4.5, num=15))\n",
    "#plt.xscale('log')\n",
    "counts, bins, bars = plt.hist(data,bins=bins)\n",
    "print(counts)\n",
    "plt.show()\n",
    "\n",
    "bins = 10**(np.linspace(3,4.5, num=15))\n",
    "plt.xscale('log')\n",
    "counts, bins, bars = plt.hist(data,bins=bins)\n",
    "print(counts)\n",
    "plt.show()"
   ]
  },
  {
   "cell_type": "code",
   "execution_count": null,
   "metadata": {},
   "outputs": [],
   "source": []
  },
  {
   "cell_type": "code",
   "execution_count": 114,
   "metadata": {},
   "outputs": [],
   "source": [
    "#Power law?\n",
    "#Popularity is a common power law distribution. Since if you're more popular, you're more likely\n",
    "#to get donors, and thus have donors in common with someone else, the edge weights resembling the power law\n",
    "#distribution as well makes sense.\n",
    "#There are always extremely popular items, and it's skewed in that direction, but most things aren't that popular.\n",
    "\n",
    "#Note that this graph itself is a subsection of what the overall distribution would have been, because we've only\n",
    "#selected more popular nodes as donors (the donor must have >= 1000 recipients).\n",
    "#With those edges restored, the distribution would likely be clearer, but the graph would be too large then\n",
    "#(especially since it's a complete graph).\n",
    "#Similarly for the corecip graph, we selected more popular nodes as recipients (the recip must have >= 50 donors)."
   ]
  },
  {
   "cell_type": "code",
   "execution_count": 115,
   "metadata": {},
   "outputs": [
    {
     "name": "stdout",
     "output_type": "stream",
     "text": [
      "22366\n",
      "alpha=  1.27105422764   sigma=  0.00181243326735\n"
     ]
    },
    {
     "name": "stderr",
     "output_type": "stream",
     "text": [
      "/Users/arjunrao/anaconda/lib/python3.6/site-packages/powerlaw.py:697: RuntimeWarning: invalid value encountered in true_divide\n",
      "  (Theoretical_CDF * (1 - Theoretical_CDF))\n"
     ]
    },
    {
     "data": {
      "image/png": "[encoded data removed]",
      "text/plain": [
       "<Figure size 432x288 with 1 Axes>"
      ]
     },
     "metadata": {},
     "output_type": "display_data"
    }
   ],
   "source": [
    "\n",
    "import powerlaw\n",
    "import numpy as np\n",
    "\n",
    "print(len(num_codonors_list))\n",
    "%matplotlib inline\n",
    "fit = powerlaw.Fit(np.array(num_codonors_list)+1,xmin=1,discrete=True)\n",
    "fit.power_law.plot_pdf( color= 'b',linestyle='--',label='fit ccdf')\n",
    "fit.plot_pdf( color= 'b')\n",
    "\n",
    "print('alpha= ',fit.power_law.alpha,'  sigma= ',fit.power_law.sigma)\n"
   ]
  },
  {
   "cell_type": "code",
   "execution_count": 116,
   "metadata": {},
   "outputs": [
    {
     "name": "stderr",
     "output_type": "stream",
     "text": [
      "/Users/arjunrao/anaconda/lib/python3.6/site-packages/powerlaw.py:697: RuntimeWarning: invalid value encountered in true_divide\n",
      "  (Theoretical_CDF * (1 - Theoretical_CDF))\n"
     ]
    },
    {
     "name": "stdout",
     "output_type": "stream",
     "text": [
      "alpha=  1.28948474771   sigma=  0.00198594244438\n"
     ]
    },
    {
     "data": {
      "image/png": "[encoded data removed]",
      "text/plain": [
       "<Figure size 432x288 with 1 Axes>"
      ]
     },
     "metadata": {},
     "output_type": "display_data"
    }
   ],
   "source": [
    "%matplotlib inline\n",
    "#high bkt edges\n",
    "fit = powerlaw.Fit(np.array(num_codonors_list[:-1118])+1,xmin=1,discrete=True)\n",
    "fit.power_law.plot_pdf( color= 'b',linestyle='--',label='fit ccdf')\n",
    "fit.plot_pdf( color= 'b')\n",
    "\n",
    "print('alpha= ',fit.power_law.alpha,'  sigma= ',fit.power_law.sigma)"
   ]
  },
  {
   "cell_type": "code",
   "execution_count": 117,
   "metadata": {},
   "outputs": [
    {
     "name": "stdout",
     "output_type": "stream",
     "text": [
      "alpha=  1.1226485408   sigma=  0.00366810267647\n"
     ]
    },
    {
     "data": {
      "image/png": "[encoded data removed]",
      "text/plain": [
       "<Figure size 432x288 with 1 Axes>"
      ]
     },
     "metadata": {},
     "output_type": "display_data"
    }
   ],
   "source": [
    "#power law doesn't fit as well for the last stretch of edges. Perhaps this reflects them being somewhat inaccurate?\n",
    "#Maybe somewhere in the actual middle is better?\n",
    "#But more likely, this just reflects the fact that power law may not be a great fit of the higher edges and data.\n",
    "#It doesn't have to be power law, can be log normal or nothing really.\n",
    "%matplotlib inline\n",
    "#high bkt edges\n",
    "fit = powerlaw.Fit(np.array(num_codonors_list[-1118:])+1,xmin=1,discrete=True)\n",
    "fit.power_law.plot_pdf( color= 'b',linestyle='--',label='fit ccdf')\n",
    "fit.plot_pdf( color= 'b')\n",
    "\n",
    "print('alpha= ',fit.power_law.alpha,'  sigma= ',fit.power_law.sigma)"
   ]
  },
  {
   "cell_type": "code",
   "execution_count": 121,
   "metadata": {},
   "outputs": [
    {
     "name": "stdout",
     "output_type": "stream",
     "text": [
      "ROBERT ANDREWS\n"
     ]
    }
   ],
   "source": [
    "print(H1.nodes()[0])"
   ]
  },
  {
   "cell_type": "code",
   "execution_count": 134,
   "metadata": {},
   "outputs": [
    {
     "ename": "IndexError",
     "evalue": "list index out of range",
     "output_type": "error",
     "traceback": [
      "\u001b[0;31m---------------------------------------------------------------------------\u001b[0m",
      "\u001b[0;31mIndexError\u001b[0m                                Traceback (most recent call last)",
      "\u001b[0;32m<ipython-input-134-38737d98d9ac>\u001b[0m in \u001b[0;36m<module>\u001b[0;34m()\u001b[0m\n\u001b[1;32m     22\u001b[0m     \u001b[0;32mreturn\u001b[0m \u001b[0mfirstName\u001b[0m \u001b[0;34m+\u001b[0m \u001b[0;34m\" \"\u001b[0m \u001b[0;34m+\u001b[0m \u001b[0mlastName\u001b[0m\u001b[0;34m\u001b[0m\u001b[0m\n\u001b[1;32m     23\u001b[0m \u001b[0;34m\u001b[0m\u001b[0m\n\u001b[0;32m---> 24\u001b[0;31m \u001b[0mH1\u001b[0m\u001b[0;34m=\u001b[0m\u001b[0mnx\u001b[0m\u001b[0;34m.\u001b[0m\u001b[0mrelabel_nodes\u001b[0m\u001b[0;34m(\u001b[0m\u001b[0mH1\u001b[0m\u001b[0;34m,\u001b[0m\u001b[0mmapping\u001b[0m\u001b[0;34m)\u001b[0m\u001b[0;34m\u001b[0m\u001b[0m\n\u001b[0m\u001b[1;32m     25\u001b[0m \u001b[0;31m#print(H1.nodes())#Nodes change confirmed\u001b[0m\u001b[0;34m\u001b[0m\u001b[0;34m\u001b[0m\u001b[0m\n\u001b[1;32m     26\u001b[0m \u001b[0;31m#print(H1.edges())#Edges change too.\u001b[0m\u001b[0;34m\u001b[0m\u001b[0;34m\u001b[0m\u001b[0m\n",
      "\u001b[0;32m/Users/arjunrao/anaconda/lib/python3.6/site-packages/networkx/relabel.py\u001b[0m in \u001b[0;36mrelabel_nodes\u001b[0;34m(G, mapping, copy)\u001b[0m\n\u001b[1;32m     73\u001b[0m     \u001b[0;31m# but we'll just make a dictionary here regardless\u001b[0m\u001b[0;34m\u001b[0m\u001b[0;34m\u001b[0m\u001b[0m\n\u001b[1;32m     74\u001b[0m     \u001b[0;32mif\u001b[0m \u001b[0;32mnot\u001b[0m \u001b[0mhasattr\u001b[0m\u001b[0;34m(\u001b[0m\u001b[0mmapping\u001b[0m\u001b[0;34m,\u001b[0m\u001b[0;34m\"__getitem__\"\u001b[0m\u001b[0;34m)\u001b[0m\u001b[0;34m:\u001b[0m\u001b[0;34m\u001b[0m\u001b[0m\n\u001b[0;32m---> 75\u001b[0;31m         \u001b[0mm\u001b[0m \u001b[0;34m=\u001b[0m \u001b[0mdict\u001b[0m\u001b[0;34m(\u001b[0m\u001b[0;34m(\u001b[0m\u001b[0mn\u001b[0m\u001b[0;34m,\u001b[0m \u001b[0mmapping\u001b[0m\u001b[0;34m(\u001b[0m\u001b[0mn\u001b[0m\u001b[0;34m)\u001b[0m\u001b[0;34m)\u001b[0m \u001b[0;32mfor\u001b[0m \u001b[0mn\u001b[0m \u001b[0;32min\u001b[0m \u001b[0mG\u001b[0m\u001b[0;34m)\u001b[0m\u001b[0;34m\u001b[0m\u001b[0m\n\u001b[0m\u001b[1;32m     76\u001b[0m     \u001b[0;32melse\u001b[0m\u001b[0;34m:\u001b[0m\u001b[0;34m\u001b[0m\u001b[0m\n\u001b[1;32m     77\u001b[0m         \u001b[0mm\u001b[0m \u001b[0;34m=\u001b[0m \u001b[0mmapping\u001b[0m\u001b[0;34m\u001b[0m\u001b[0m\n",
      "\u001b[0;32m/Users/arjunrao/anaconda/lib/python3.6/site-packages/networkx/relabel.py\u001b[0m in \u001b[0;36m<genexpr>\u001b[0;34m(.0)\u001b[0m\n\u001b[1;32m     73\u001b[0m     \u001b[0;31m# but we'll just make a dictionary here regardless\u001b[0m\u001b[0;34m\u001b[0m\u001b[0;34m\u001b[0m\u001b[0m\n\u001b[1;32m     74\u001b[0m     \u001b[0;32mif\u001b[0m \u001b[0;32mnot\u001b[0m \u001b[0mhasattr\u001b[0m\u001b[0;34m(\u001b[0m\u001b[0mmapping\u001b[0m\u001b[0;34m,\u001b[0m\u001b[0;34m\"__getitem__\"\u001b[0m\u001b[0;34m)\u001b[0m\u001b[0;34m:\u001b[0m\u001b[0;34m\u001b[0m\u001b[0m\n\u001b[0;32m---> 75\u001b[0;31m         \u001b[0mm\u001b[0m \u001b[0;34m=\u001b[0m \u001b[0mdict\u001b[0m\u001b[0;34m(\u001b[0m\u001b[0;34m(\u001b[0m\u001b[0mn\u001b[0m\u001b[0;34m,\u001b[0m \u001b[0mmapping\u001b[0m\u001b[0;34m(\u001b[0m\u001b[0mn\u001b[0m\u001b[0;34m)\u001b[0m\u001b[0;34m)\u001b[0m \u001b[0;32mfor\u001b[0m \u001b[0mn\u001b[0m \u001b[0;32min\u001b[0m \u001b[0mG\u001b[0m\u001b[0;34m)\u001b[0m\u001b[0;34m\u001b[0m\u001b[0m\n\u001b[0m\u001b[1;32m     76\u001b[0m     \u001b[0;32melse\u001b[0m\u001b[0;34m:\u001b[0m\u001b[0;34m\u001b[0m\u001b[0m\n\u001b[1;32m     77\u001b[0m         \u001b[0mm\u001b[0m \u001b[0;34m=\u001b[0m \u001b[0mmapping\u001b[0m\u001b[0;34m\u001b[0m\u001b[0m\n",
      "\u001b[0;32m<ipython-input-134-38737d98d9ac>\u001b[0m in \u001b[0;36mmapping\u001b[0;34m(full_name)\u001b[0m\n\u001b[1;32m     16\u001b[0m     \u001b[0;31m#rest of name is second part of 'name'. The firstName is that part split by spaces to get the first word\u001b[0m\u001b[0;34m\u001b[0m\u001b[0;34m\u001b[0m\u001b[0m\n\u001b[1;32m     17\u001b[0m     \u001b[0;31m#note there is a preceding space\u001b[0m\u001b[0;34m\u001b[0m\u001b[0;34m\u001b[0m\u001b[0m\n\u001b[0;32m---> 18\u001b[0;31m     \u001b[0mfirstName\u001b[0m \u001b[0;34m=\u001b[0m \u001b[0mname\u001b[0m\u001b[0;34m[\u001b[0m\u001b[0;36m1\u001b[0m\u001b[0;34m]\u001b[0m\u001b[0;34m.\u001b[0m\u001b[0msplit\u001b[0m\u001b[0;34m(\u001b[0m\u001b[0;34m' '\u001b[0m\u001b[0;34m)\u001b[0m\u001b[0;34m[\u001b[0m\u001b[0;36m1\u001b[0m\u001b[0;34m]\u001b[0m\u001b[0;34m\u001b[0m\u001b[0m\n\u001b[0m\u001b[1;32m     19\u001b[0m     \u001b[0;31m#godammit there's someone named W Todd Akin\u001b[0m\u001b[0;34m\u001b[0m\u001b[0;34m\u001b[0m\u001b[0m\n\u001b[1;32m     20\u001b[0m     \u001b[0;32mif\u001b[0m \u001b[0;34m(\u001b[0m\u001b[0mlen\u001b[0m\u001b[0;34m(\u001b[0m\u001b[0mfirstName\u001b[0m\u001b[0;34m)\u001b[0m \u001b[0;34m==\u001b[0m \u001b[0;36m1\u001b[0m \u001b[0;32mand\u001b[0m \u001b[0mlen\u001b[0m\u001b[0;34m(\u001b[0m\u001b[0mname\u001b[0m\u001b[0;34m[\u001b[0m\u001b[0;36m1\u001b[0m\u001b[0;34m]\u001b[0m\u001b[0;34m.\u001b[0m\u001b[0msplit\u001b[0m\u001b[0;34m(\u001b[0m\u001b[0;34m' '\u001b[0m\u001b[0;34m)\u001b[0m\u001b[0;34m)\u001b[0m \u001b[0;34m>\u001b[0m \u001b[0;36m2\u001b[0m\u001b[0;34m)\u001b[0m\u001b[0;34m:\u001b[0m\u001b[0;31m#if we have 2+ names in the firstName middleName etc\u001b[0m\u001b[0;34m\u001b[0m\u001b[0m\n",
      "\u001b[0;31mIndexError\u001b[0m: list index out of range"
     ]
    }
   ],
   "source": [
    "#turns out there's a better way of storing the graph if you want all the node data, which is as a gpickle file.\n",
    "H1 = nx.read_gpickle(\"codonor_graph_gpickle_test.gpickle\")\n",
    "#print(H1.nodes())\n",
    "\n",
    "\n",
    "\n",
    "def mapping(full_name):\n",
    "    \n",
    "    if (full_name == \"FOSTER, G. WILLIAM\"):\n",
    "        return \"G WILLIAM FOSTER\"#special case in terms of what is best in search results / shows up\n",
    "    \n",
    "    name = [x for x in full_name.split(',')]\n",
    "    #name must be of length two.\n",
    "    #The first 'name' is the lastname\n",
    "    lastName = name[0]\n",
    "    #rest of name is second part of 'name'. The firstName is that part split by spaces to get the first word\n",
    "    #note there is a preceding space\n",
    "    firstName = name[1].split(' ')[1]\n",
    "    #godammit there's someone named W Todd Akin\n",
    "    if (len(firstName) == 1 and len(name[1].split(' ')) > 2):#if we have 2+ names in the firstName middleName etc\n",
    "        firstName = name[1].split(' ')[2]\n",
    "    return firstName + \" \" + lastName\n",
    "\n",
    "#H1=nx.relabel_nodes(H1,mapping)\n",
    "\n",
    "print(H1.nodes())\n",
    "\n",
    "for v in H1.nodes():     \n",
    "    print(H1.node[v]['ideo'])\n",
    "\n",
    "nx.write_gpickle(H1, \"codonor_graph_gpickle_test.gpickle\")\n",
    "print('written')\n"
   ]
  },
  {
   "cell_type": "code",
   "execution_count": 136,
   "metadata": {},
   "outputs": [
    {
     "name": "stdout",
     "output_type": "stream",
     "text": [
      "{'name': 'ANDREWS, ROBERT E', 'win': 'W', 'race': 37.0, 'number_of_donors': 1229, 'amount': 867263, 'party': '100', 'ideo': -0.40625100000000003, 'region': 'Some liberal'}\n",
      "-0.40625100000000003\n",
      "{'name': 'SANDERS, BERNARD', 'race': 45.0, 'region': 'Most liberal', 'win': 'W', 'number_of_donors': 19384, 'amount': 1684279, 'party': '100', 'ideo': -1.5785460936581002}\n",
      "-1.5785460936581002\n",
      "{'name': 'ALLEN, GEORGE', 'race': 5.0, 'region': 'Most liberal', 'win': 'L', 'number_of_donors': 7144, 'amount': 9531156, 'party': '200', 'ideo': 0.9668387783220649}\n",
      "0.9668387783220649\n",
      "{'name': 'BACHUS, SPENCER THOMAS', 'race': 43.0, 'region': 'Most conservative', 'win': 'W', 'number_of_donors': 1099, 'amount': 1099555, 'party': '200', 'ideo': 0.768505}\n",
      "0.768505\n",
      "{'name': 'ROYCE, EDWARD R', 'race': 4.0, 'region': 'Most liberal', 'win': 'W', 'number_of_donors': 1404, 'amount': 1740662, 'party': '200', 'ideo': 0.8609370000000001}\n",
      "0.8609370000000001\n",
      "{'name': 'HOEKSTRA, PETER', 'race': 21.0, 'region': 'Some liberal', 'win': 'L', 'number_of_donors': 2839, 'amount': 3584026, 'party': '200', 'ideo': 1.19627361259972}\n",
      "1.19627361259972\n",
      "{'name': 'MENENDEZ, ROBERT', 'race': 19.0, 'region': 'Some liberal', 'win': 'W', 'number_of_donors': 8188, 'amount': 10305244, 'party': '100', 'ideo': -0.647885}\n",
      "-0.647885\n",
      "{'name': 'COFFMAN, MIKE', 'race': 3.0, 'region': 'Most liberal', 'win': 'W', 'number_of_donors': 1564, 'amount': 1648356, 'party': '200', 'ideo': 1.1034950000000001}\n",
      "1.1034950000000001\n",
      "{'name': 'LATHAM, TOM', 'race': 9.0, 'region': 'Most liberal', 'win': 'W', 'number_of_donors': 1097, 'amount': 1224889, 'party': '200', 'ideo': 0.978035}\n",
      "0.978035\n",
      "{'name': 'DOGGETT, LLOYD', 'race': 1.0, 'region': 'Most conservative', 'win': 'W', 'number_of_donors': 1089, 'amount': 1251286, 'party': '100', 'ideo': -0.774249}\n",
      "-0.774249\n",
      "{'name': 'JACKSON, JESSE L JR', 'race': 40.0, 'region': 'Most liberal', 'win': 'W', 'number_of_donors': 1004, 'amount': 639492, 'party': '100', 'ideo': -0.847082}\n",
      "-0.847082\n",
      "{'name': 'DEGETTE, DIANA LOUISE', 'race': 41.0, 'region': 'Most liberal', 'win': 'W', 'number_of_donors': 1649, 'amount': 595132, 'party': '100', 'ideo': -1.121999}\n",
      "-1.121999\n",
      "{'name': 'MCGOVERN, JAMES PATRICK', 'race': 0.0, 'region': 'Most liberal', 'win': 'W', 'number_of_donors': 1369, 'amount': 540248, 'party': '100', 'ideo': -0.987818}\n",
      "-0.987818\n",
      "{'name': 'TIERNEY, JOHN F', 'race': 1.0, 'region': 'Most liberal', 'win': 'W', 'number_of_donors': 1446, 'amount': 1122738, 'party': '100', 'ideo': -1.134023}\n",
      "-1.134023\n",
      "{'name': 'STABENOW, DEBBIE', 'race': 21.0, 'region': 'Some liberal', 'win': 'W', 'number_of_donors': 16870, 'amount': 6066212, 'party': '100', 'ideo': -1.013059}\n",
      "-1.013059\n",
      "{'name': 'EMERSON, JO ANN HERMANN', 'race': 47.0, 'region': 'Most liberal', 'win': 'W', 'number_of_donors': 1370, 'amount': 552875, 'party': '200', 'ideo': 0.7374109999999999}\n",
      "0.7374109999999999\n",
      "{'name': 'PASCRELL, WILLIAM J JR', 'race': 48.0, 'region': 'Some liberal', 'win': 'W', 'number_of_donors': 1413, 'amount': 1628152, 'party': '100', 'ideo': -0.607549}\n",
      "-0.607549\n",
      "{'name': 'MCCARTHY, CAROLYN', 'race': 29.0, 'region': 'Most liberal', 'win': 'W', 'number_of_donors': 1819, 'amount': 741506, 'party': '100', 'ideo': -1.034326}\n",
      "-1.034326\n",
      "{'name': 'MCINTYRE, MIKE', 'race': 1.0, 'region': 'Average', 'win': 'W', 'number_of_donors': 1029, 'amount': 913357, 'party': '100', 'ideo': -0.366112}\n",
      "-0.366112\n",
      "{'name': 'KIND, RONALD JAMES', 'race': 29.0, 'region': 'Most liberal', 'win': 'W', 'number_of_donors': 3399, 'amount': 714646, 'party': '100', 'ideo': -0.738974}\n",
      "-0.738974\n",
      "{'name': 'CAPPS, LOIS', 'race': 9.0, 'region': 'Most liberal', 'win': 'W', 'number_of_donors': 4782, 'amount': 2173772, 'party': '100', 'ideo': -1.3107739999999999}\n",
      "-1.3107739999999999\n",
      "{'name': 'LEE, BARBARA', 'race': 73.0, 'region': 'Most liberal', 'win': 'W', 'number_of_donors': 2390, 'amount': 669233, 'party': '100', 'ideo': -1.325243}\n",
      "-1.325243\n",
      "{'name': 'WILSON, HEATHER A', 'race': 5.0, 'region': 'Most liberal', 'win': 'L', 'number_of_donors': 4253, 'amount': 4526962, 'party': '200', 'ideo': 0.761232687775886}\n",
      "0.761232687775886\n",
      "{'name': 'BIGGERT, JUDY', 'race': 17.0, 'region': 'Most liberal', 'win': 'L', 'number_of_donors': 1511, 'amount': 1437571, 'party': '200', 'ideo': 0.7775850000000001}\n",
      "0.7775850000000001\n",
      "{'name': 'BERKLEY, SHELLEY', 'race': 2.0, 'region': 'Most liberal', 'win': 'L', 'number_of_donors': 23178, 'amount': 6495121, 'party': '100', 'ideo': -0.786758}\n",
      "-0.786758\n",
      "{'name': 'HOLT, RUSH', 'race': 39.0, 'region': 'Some liberal', 'win': 'W', 'number_of_donors': 1397, 'amount': 1164836, 'party': '100', 'ideo': -1.290718}\n",
      "-1.290718\n",
      "{'name': 'RYAN, PAUL D', 'race': 11.0, 'region': 'Most liberal', 'win': 'W', 'number_of_donors': 18716, 'amount': 3819057, 'party': '200', 'ideo': 1.1331200000000001}\n",
      "1.1331200000000001\n",
      "{'name': 'BALDWIN, TAMMY', 'race': 6.0, 'region': 'Most liberal', 'win': 'W', 'number_of_donors': 74416, 'amount': 7257665, 'party': '100', 'ideo': -1.606083}\n",
      "-1.606083\n",
      "{'name': 'CANTWELL, MARIA', 'race': 21.0, 'region': 'Most liberal', 'win': 'W', 'number_of_donors': 12923, 'amount': 5889885, 'party': '100', 'ideo': -1.1388040000000001}\n",
      "-1.1388040000000001\n",
      "{'name': 'FEINSTEIN, DIANNE', 'race': 23.0, 'region': 'Most liberal', 'win': 'W', 'number_of_donors': 8744, 'amount': 6064649, 'party': '100', 'ideo': -0.9499790000000001}\n",
      "-0.9499790000000001\n",
      "{'name': 'LUNGREN, DANIEL E', 'race': 1.0, 'region': 'Most liberal', 'win': 'L', 'number_of_donors': 1162, 'amount': 1291329, 'party': '200', 'ideo': 0.816124}\n",
      "0.816124\n",
      "{'name': 'NELSON, BILL', 'race': 13.0, 'region': 'Most liberal', 'win': 'W', 'number_of_donors': 8982, 'amount': 10264206, 'party': '100', 'ideo': -0.619222}\n",
      "-0.619222\n",
      "{'name': 'GILL, DAVID MICHAEL', 'race': 0.0, 'region': 'Most liberal', 'win': 'L', 'number_of_donors': 10962, 'amount': 1115180, 'party': '100', 'ideo': -1.7283970000000002}\n",
      "-1.7283970000000002\n",
      "{'name': 'HOYER, STENY HAMILTON', 'race': 81.0, 'region': 'Most liberal', 'win': 'L', 'number_of_donors': 1325, 'amount': 1619707, 'party': '100', 'ideo': -0.577681}\n",
      "-0.577681\n",
      "{'name': 'CARPER, THOMAS R', 'race': 38.0, 'region': 'Most liberal', 'win': 'W', 'number_of_donors': 1408, 'amount': 1256243, 'party': '100', 'ideo': -0.600173}\n",
      "-0.600173\n",
      "{'name': 'KAPTUR, MARCY', 'race': 49.0, 'region': 'Some liberal', 'win': 'W', 'number_of_donors': 1141, 'amount': 430138, 'party': '100', 'ideo': -0.587755}\n",
      "-0.587755\n",
      "{'name': 'CARDIN, BENJAMIN L', 'race': 29.0, 'region': 'Most liberal', 'win': 'W', 'number_of_donors': 3904, 'amount': 3060554, 'party': '100', 'ideo': -0.833095}\n",
      "-0.833095\n",
      "{'name': 'DEFAZIO, PETER A', 'race': 19.0, 'region': 'Most liberal', 'win': 'W', 'number_of_donors': 2368, 'amount': 538846, 'party': '100', 'ideo': -0.917156}\n",
      "-0.917156\n",
      "{'name': 'SLAUGHTER, LOUISE MCINTOSH', 'race': 9.0, 'region': 'Most liberal', 'win': 'W', 'number_of_donors': 7604, 'amount': 1014379, 'party': '100', 'ideo': -1.0293729999999999}\n",
      "-1.0293729999999999\n",
      "{'name': 'UPTON, FREDERICK STEPHEN', 'race': 12.0, 'region': 'Some liberal', 'win': 'W', 'number_of_donors': 1292, 'amount': 1292044, 'party': '200', 'ideo': 0.834467}\n",
      "0.834467\n",
      "{'name': 'PELOSI, NANCY', 'race': 69.0, 'region': 'Most liberal', 'win': 'W', 'number_of_donors': 5726, 'amount': 5281713, 'party': '100', 'ideo': -1.02454}\n",
      "-1.02454\n",
      "{'name': 'LOWEY, NITA M', 'race': 30.0, 'region': 'Most liberal', 'win': 'W', 'number_of_donors': 1993, 'amount': 1740125, 'party': '100', 'ideo': -0.9837889999999999}\n",
      "-0.9837889999999999\n",
      "{'name': 'ROS-LEHTINEN, ILEANA', 'race': 35.0, 'region': 'Most liberal', 'win': 'W', 'number_of_donors': 1935, 'amount': 1611483, 'party': '200', 'ideo': 0.338674}\n",
      "0.338674\n",
      "{'name': 'FLAKE, JEFFRY LANE', 'race': 3.0, 'region': 'Most liberal', 'win': 'W', 'number_of_donors': 6533, 'amount': 6125817, 'party': '200', 'ideo': 1.162226}\n",
      "1.162226\n",
      "{'name': 'HONDA, MICHAEL MAKOTO', 'race': 1.0, 'region': 'Most liberal', 'win': 'W', 'number_of_donors': 2140, 'amount': 506731, 'party': '100', 'ideo': -1.036062}\n",
      "-1.036062\n",
      "{'name': 'AKIN, W TODD', 'race': 15.0, 'region': 'Most liberal', 'win': 'L', 'number_of_donors': 2447, 'amount': 3116305, 'party': '200', 'ideo': 1.201362}\n",
      "1.201362\n",
      "{'name': 'REHBERG, DENNIS R', 'race': 3.0, 'region': 'Most liberal', 'win': 'L', 'number_of_donors': 3753, 'amount': 5096044, 'party': '200', 'ideo': 1.0590629999999999}\n",
      "1.0590629999999999\n",
      "{'name': 'ISRAEL, STEVE', 'race': 1.0, 'region': 'Most liberal', 'win': 'W', 'number_of_donors': 1303, 'amount': 2250966, 'party': '100', 'ideo': -0.670361}\n",
      "-0.670361\n",
      "{'name': 'TIBERI, PATRICK J', 'race': 27.0, 'region': 'Some liberal', 'win': 'W', 'number_of_donors': 1927, 'amount': 1366124, 'party': '200', 'ideo': 0.7613949999999999}\n",
      "0.7613949999999999\n",
      "{'name': 'CANTOR, ERIC IVAN', 'race': 17.0, 'region': 'Most liberal', 'win': 'W', 'number_of_donors': 2999, 'amount': 10308823, 'party': '200', 'ideo': 0.603296}\n",
      "0.603296\n",
      "{'name': 'CAPITO, SHELLEY MOORE', 'race': 39.0, 'region': 'Average', 'win': 'W', 'number_of_donors': 1310, 'amount': 1473056, 'party': '200', 'ideo': 0.680398}\n",
      "0.680398\n",
      "{'name': 'GRIJALVA, RAUL M', 'race': 14.0, 'region': 'Most liberal', 'win': 'W', 'number_of_donors': 6753, 'amount': 369306, 'party': '100', 'ideo': -1.330869}\n",
      "-1.330869\n",
      "{'name': 'KING, STEVEN A', 'race': 9.0, 'region': 'Most liberal', 'win': 'W', 'number_of_donors': 3967, 'amount': 2285570, 'party': '200', 'ideo': 1.266641}\n",
      "1.266641\n",
      "{'name': 'CHANDLER, BEN', 'race': 4.0, 'region': 'Some convervative', 'win': 'L', 'number_of_donors': 1321, 'amount': 1254706, 'party': '100', 'ideo': -0.41311099999999995}\n",
      "-0.41311099999999995\n",
      "{'name': 'GARRETT, E SCOTT', 'race': 13.0, 'region': 'Some liberal', 'win': 'W', 'number_of_donors': 1085, 'amount': 1398394, 'party': '200', 'ideo': 0.869891}\n",
      "0.869891\n",
      "{'name': 'BISHOP, TIMOTHY H', 'race': 5.0, 'region': 'Most liberal', 'win': 'W', 'number_of_donors': 2187, 'amount': 1467738, 'party': '100', 'ideo': -1.022489}\n",
      "-1.022489\n",
      "{'name': 'MURPHY, TIM', 'race': 27.0, 'region': 'Most liberal', 'win': 'W', 'number_of_donors': 1040, 'amount': 1055376, 'party': '200', 'ideo': 0.514966}\n",
      "0.514966\n",
      "{'name': 'HENSARLING, THOMAS JEB', 'race': 31.0, 'region': 'Most conservative', 'win': 'W', 'number_of_donors': 1205, 'amount': 1519971, 'party': '200', 'ideo': 1.094709}\n",
      "1.094709\n",
      "{'name': 'MACK, CONNIE', 'race': 13.0, 'region': 'Most liberal', 'win': 'L', 'number_of_donors': 3481, 'amount': 4597158, 'party': '200', 'ideo': 0.937099}\n",
      "0.937099\n",
      "{'name': 'WASSERMAN SCHULTZ, DEBBIE', 'race': 24.0, 'region': 'Most liberal', 'win': 'L', 'number_of_donors': 1971, 'amount': 2091568, 'party': '100', 'ideo': -0.710625}\n",
      "-0.710625\n",
      "{'name': 'PRICE, THOMAS EDMUNDS', 'race': 29.0, 'region': 'Most conservative', 'win': 'W', 'number_of_donors': 1551, 'amount': 1173054, 'party': '200', 'ideo': 0.993785}\n",
      "0.993785\n",
      "{'name': 'BARROW, JOHN J', 'race': 7.0, 'region': 'Most conservative', 'win': 'W', 'number_of_donors': 1053, 'amount': 1050845, 'party': '100', 'ideo': -0.6025560000000001}\n",
      "-0.6025560000000001\n",
      "{'name': 'BOUSTANY, JR, CHARLES W.', 'race': 14.0, 'region': 'Most conservative', 'win': 'L', 'number_of_donors': 1712, 'amount': 2263279, 'party': '200', 'ideo': 0.856109}\n",
      "0.856109\n",
      "{'name': 'MCNERNEY, JERRY', 'race': 7.0, 'region': 'Most liberal', 'win': 'W', 'number_of_donors': 1770, 'amount': 1556321, 'party': '100', 'ideo': -1.4252799999999999}\n",
      "-1.4252799999999999\n",
      "{'name': 'DONNELLY, JOSEPH SIMON', 'race': 5.0, 'region': 'Most liberal', 'win': 'W', 'number_of_donors': 16151, 'amount': 3461652, 'party': '100', 'ideo': -1.09063}\n",
      "-1.09063\n",
      "{'name': 'SUTTON, BETTY S MS.', 'race': 5.0, 'region': 'Some liberal', 'win': 'L', 'number_of_donors': 6134, 'amount': 1204377, 'party': '100', 'ideo': -1.158488}\n",
      "-1.158488\n",
      "{'name': 'EDWARDS, DONNA FERN', 'race': 57.0, 'region': 'Most liberal', 'win': 'W', 'number_of_donors': 4147, 'amount': 412772, 'party': '100', 'ideo': -1.456906}\n",
      "-1.456906\n",
      "{'name': 'GRAYSON, ALAN MARK', 'race': 1.0, 'region': 'Most liberal', 'win': 'L', 'number_of_donors': 34019, 'amount': 4328805, 'party': '100', 'ideo': -1.7406709999999999}\n",
      "-1.7406709999999999\n",
      "{'name': 'MAFFEI, DANIEL B MR.', 'race': 12.0, 'region': 'Most liberal', 'win': 'W', 'number_of_donors': 4472, 'amount': 1236040, 'party': '100', 'ideo': -1.150318}\n",
      "-1.150318\n",
      "{'name': 'ROSKAM, PETER', 'race': 19.0, 'region': 'Most liberal', 'win': 'W', 'number_of_donors': 1449, 'amount': 2018967, 'party': '200', 'ideo': 0.921067}\n",
      "0.921067\n",
      "{'name': 'KLOBUCHAR, AMY J', 'race': 35.0, 'region': 'Some liberal', 'win': 'W', 'number_of_donors': 9281, 'amount': 3774751, 'party': '100', 'ideo': -1.204284}\n",
      "-1.204284\n",
      "{'name': 'MCCASKILL, CLAIRE', 'race': 15.0, 'region': 'Most liberal', 'win': 'W', 'number_of_donors': 30916, 'amount': 12110396, 'party': '100', 'ideo': -1.156988}\n",
      "-1.156988\n",
      "{'name': 'TESTER, JON', 'race': 3.0, 'region': 'Most liberal', 'win': 'W', 'number_of_donors': 13384, 'amount': 6764447, 'party': '100', 'ideo': -1.224803}\n",
      "-1.224803\n",
      "{'name': 'CASEY, ROBERT P JR', 'race': 9.0, 'region': 'Most liberal', 'win': 'W', 'number_of_donors': 7223, 'amount': 8724896, 'party': '100', 'ideo': -0.8903399999999999}\n",
      "-0.8903399999999999\n",
      "{'name': 'WHITEHOUSE, SHELDON II', 'race': 29.0, 'region': 'Most liberal', 'win': 'W', 'number_of_donors': 6495, 'amount': 2962830, 'party': '100', 'ideo': -1.0518049999999999}\n",
      "-1.0518049999999999\n",
      "{'name': 'DUCKWORTH, L. TAMMY', 'race': 9.0, 'region': 'Most liberal', 'win': 'W', 'number_of_donors': 19873, 'amount': 3213590, 'party': '100', 'ideo': -1.453782}\n",
      "-1.453782\n",
      "{'name': 'MCCARTHY, KEVIN MR', 'race': 47.0, 'region': 'Most liberal', 'win': 'W', 'number_of_donors': 1406, 'amount': 2841251, 'party': '200', 'ideo': 0.675585}\n",
      "0.675585\n",
      "{'name': 'MURPHY, CHRISTOPHER SCOTT', 'race': 13.0, 'region': 'Most liberal', 'win': 'W', 'number_of_donors': 37961, 'amount': 7317530, 'party': '100', 'ideo': -1.40188}\n",
      "-1.40188\n",
      "{'name': 'BUCHANAN, VERNON', 'race': 5.0, 'region': 'Most liberal', 'win': 'W', 'number_of_donors': 1116, 'amount': 2717562, 'party': '200', 'ideo': 1.010175}\n",
      "1.010175\n",
      "{'name': 'HIRONO, MAZIE K', 'race': 25.0, 'region': 'Most liberal', 'win': 'W', 'number_of_donors': 30215, 'amount': 4033555, 'party': '100', 'ideo': -1.3868120000000002}\n",
      "-1.3868120000000002\n",
      "{'name': 'BRALEY, BRUCE L.', 'race': 15.0, 'region': 'Most liberal', 'win': 'W', 'number_of_donors': 4620, 'amount': 1854018, 'party': '100', 'ideo': -1.11717}\n",
      "-1.11717\n",
      "{'name': 'LOEBSACK, DAVID W', 'race': 13.0, 'region': 'Most liberal', 'win': 'W', 'number_of_donors': 1492, 'amount': 666959, 'party': '100', 'ideo': -1.321049}\n",
      "-1.321049\n",
      "{'name': 'WALZ, TIMOTHY J', 'race': 15.0, 'region': 'Some liberal', 'win': 'W', 'number_of_donors': 1381, 'amount': 864967, 'party': '100', 'ideo': -1.356324}\n",
      "-1.356324\n",
      "{'name': 'ELLISON, KEITH MAURICE', 'race': 49.0, 'region': 'Some liberal', 'win': 'W', 'number_of_donors': 5089, 'amount': 1227438, 'party': '100', 'ideo': -1.2636969999999998}\n",
      "-1.2636969999999998\n",
      "{'name': 'HELLER, DEAN', 'race': 2.0, 'region': 'Most liberal', 'win': 'W', 'number_of_donors': 3280, 'amount': 5389256, 'party': '200', 'ideo': 0.799825}\n",
      "0.799825\n",
      "{'name': 'SHEA-PORTER, CAROL', 'race': 4.0, 'region': 'Most liberal', 'win': 'W', 'number_of_donors': 15431, 'amount': 907405, 'party': '100', 'ideo': -1.5981450000000001}\n",
      "-1.5981450000000001\n",
      "{'name': 'FOSTER, G. WILLIAM (BIL', 'race': 17.0, 'region': 'Most liberal', 'win': 'W', 'number_of_donors': 5248, 'amount': 3069168, 'party': '100', 'ideo': -1.396193}\n",
      "-1.396193\n",
      "{'name': 'TSONGAS, NICOLA', 'race': 34.0, 'region': 'Most liberal', 'win': 'L', 'number_of_donors': 2737, 'amount': 1442360, 'party': '100', 'ideo': -1.246959}\n",
      "-1.246959\n",
      "{'name': 'KIRKPATRICK, ANN', 'race': 18.0, 'region': 'Most liberal', 'win': 'W', 'number_of_donors': 4851, 'amount': 1569816, 'party': '100', 'ideo': -1.206775}\n",
      "-1.206775\n",
      "{'name': 'POLIS, JARED', 'race': 17.0, 'region': 'Most liberal', 'win': 'W', 'number_of_donors': 1517, 'amount': 2461321, 'party': '100', 'ideo': -1.162899}\n",
      "-1.162899\n",
      "{'name': 'HIMES, JIM', 'race': 87.0, 'region': 'Most liberal', 'win': 'W', 'number_of_donors': 1393, 'amount': 1908916, 'party': '100', 'ideo': -1.144855}\n",
      "-1.144855\n",
      "{'name': 'PETERS, GARY', 'race': 21.0, 'region': 'Some liberal', 'win': 'W', 'number_of_donors': 1283, 'amount': 1101094, 'party': '100', 'ideo': -0.951633}\n",
      "-0.951633\n",
      "{'name': 'PAULSEN, ERIK', 'race': 17.0, 'region': 'Some liberal', 'win': 'W', 'number_of_donors': 1418, 'amount': 2115203, 'party': '200', 'ideo': 1.102416}\n",
      "1.102416\n",
      "{'name': 'HEINRICH, MARTIN', 'race': 5.0, 'region': 'Most liberal', 'win': 'W', 'number_of_donors': 20710, 'amount': 4286185, 'party': '100', 'ideo': -1.4158870000000001}\n",
      "-1.4158870000000001\n",
      "{'name': 'TONKO, PAUL DAVID', 'race': 15.0, 'region': 'Most liberal', 'win': 'W', 'number_of_donors': 1419, 'amount': 370437, 'party': '100', 'ideo': -0.71467}\n",
      "-0.71467\n",
      "{'name': 'SCHRADER, KURT', 'race': 12.0, 'region': 'Most liberal', 'win': 'W', 'number_of_donors': 1678, 'amount': 900301, 'party': '100', 'ideo': -0.911608}\n",
      "-0.911608\n",
      "{'name': 'CONNOLLY, GERRY', 'race': 26.0, 'region': 'Most liberal', 'win': 'W', 'number_of_donors': 1467, 'amount': 987375, 'party': '100', 'ideo': -0.9172309999999999}\n",
      "-0.9172309999999999\n",
      "{'name': 'HARRIS, ANDREW P', 'race': 39.0, 'region': 'Most liberal', 'win': 'W', 'number_of_donors': 1222, 'amount': 950569, 'party': '200', 'ideo': 1.022573}\n",
      "1.022573\n",
      "{'name': 'GARCIA, JOE', 'race': 10.0, 'region': 'Most liberal', 'win': 'L', 'number_of_donors': 2604, 'amount': 621890, 'party': '100', 'ideo': -1.11552031878197}\n",
      "-1.11552031878197\n",
      "{'name': 'CHU, JUDY', 'race': 27.0, 'region': 'Most liberal', 'win': 'W', 'number_of_donors': 1073, 'amount': 1116261, 'party': '100', 'ideo': -0.860369}\n",
      "-0.860369\n",
      "{'name': 'OWENS, WILLIAM', 'race': 18.0, 'region': 'Most liberal', 'win': 'W', 'number_of_donors': 3826, 'amount': 1028587, 'party': '100', 'ideo': -1.2141309999999998}\n",
      "-1.2141309999999998\n",
      "{'name': 'GARAMENDI, JOHN', 'race': 7.0, 'region': 'Most liberal', 'win': 'W', 'number_of_donors': 1208, 'amount': 1211721, 'party': '100', 'ideo': -0.865042}\n",
      "-0.865042\n",
      "{'name': 'CRITZ, MARK', 'race': 3.0, 'region': 'Most liberal', 'win': 'L', 'number_of_donors': 1924, 'amount': 1531311, 'party': '100', 'ideo': -0.697284}\n",
      "-0.697284\n",
      "{'name': 'DENHAM, JEFF', 'race': 7.0, 'region': 'Most liberal', 'win': 'W', 'number_of_donors': 1006, 'amount': 2045750, 'party': '200', 'ideo': 0.7461939999999999}\n",
      "0.7461939999999999\n",
      "{'name': 'SOUTHERLAND, WILLIAM STEVE II', 'race': 5.0, 'region': 'Most liberal', 'win': 'W', 'number_of_donors': 1160, 'amount': 1117050, 'party': '200', 'ideo': 1.0671899999999999}\n",
      "1.0671899999999999\n",
      "{'name': 'CRAVAACK, RAYMOND J MR.', 'race': 9.0, 'region': 'Some liberal', 'win': 'L', 'number_of_donors': 1306, 'amount': 1349547, 'party': '200', 'ideo': 1.2108649999999999}\n",
      "1.2108649999999999\n",
      "{'name': 'HAYWORTH, NAN', 'race': 16.0, 'region': 'Most liberal', 'win': 'L', 'number_of_donors': 1213, 'amount': 2346601, 'party': '200', 'ideo': 0.72632}\n",
      "0.72632\n",
      "{'name': 'BUERKLE, ANN MARIE', 'race': 17.0, 'region': 'Most liberal', 'win': 'L', 'number_of_donors': 2222, 'amount': 1087694, 'party': '200', 'ideo': 0.9856590000000001}\n",
      "0.9856590000000001\n",
      "{'name': 'RENACCI, JAMES B', 'race': 5.0, 'region': 'Some liberal', 'win': 'W', 'number_of_donors': 1116, 'amount': 1626459, 'party': '200', 'ideo': 1.0861290000000001}\n",
      "1.0861290000000001\n",
      "{'name': 'MEEHAN, PATRICK L. MR. JR.', 'race': 19.0, 'region': 'Most liberal', 'win': 'W', 'number_of_donors': 1076, 'amount': 1326315, 'party': '200', 'ideo': 0.528482}\n",
      "0.528482\n",
      "{'name': 'CICILLINE, DAVID N', 'race': 12.0, 'region': 'Most liberal', 'win': 'W', 'number_of_donors': 2282, 'amount': 1640640, 'party': '100', 'ideo': -1.107132}\n",
      "-1.107132\n",
      "{'name': 'NOEM, KRISTI LYNN', 'race': 15.0, 'region': 'Some convervative', 'win': 'W', 'number_of_donors': 1507, 'amount': 1747208, 'party': '200', 'ideo': 1.3299379999999998}\n",
      "1.3299379999999998\n",
      "{'name': 'HURT, ROBERT', 'race': 13.0, 'region': 'Most liberal', 'win': 'W', 'number_of_donors': 1143, 'amount': 1024004, 'party': '200', 'ideo': 0.986273}\n",
      "0.986273\n",
      "{'name': 'DUFFY, SEAN', 'race': 13.0, 'region': 'Most liberal', 'win': 'W', 'number_of_donors': 1163, 'amount': 1228757, 'party': '200', 'ideo': 1.269562}\n",
      "1.269562\n",
      "{'name': 'RIBBLE, REID', 'race': 11.0, 'region': 'Most liberal', 'win': 'W', 'number_of_donors': 2419, 'amount': 1370707, 'party': '200', 'ideo': 1.43072}\n",
      "1.43072\n",
      "{'name': 'BROWN, SCOTT P', 'race': 7.0, 'region': 'Most liberal', 'win': 'L', 'number_of_donors': 17559, 'amount': 26656077, 'party': '200', 'ideo': 0.7957387839268071}\n",
      "0.7957387839268071\n",
      "{'name': 'BERA, AMERISH', 'race': 1.0, 'region': 'Most liberal', 'win': 'W', 'number_of_donors': 9875, 'amount': 3163018, 'party': '100', 'ideo': -1.532972}\n",
      "-1.532972\n",
      "{'name': 'HARRINGTON, KAREN', 'race': 52.0, 'region': 'Most liberal', 'win': 'W', 'number_of_donors': 1028, 'amount': 564367, 'party': '200', 'ideo': 1.26439729919899}\n",
      "1.26439729919899\n",
      "{'name': 'MCDOWELL, GARY J. HON.', 'race': 1.0, 'region': 'Some liberal', 'win': 'L', 'number_of_donors': 1249, 'amount': 740612, 'party': '100', 'ideo': -1.015406}\n",
      "-1.015406\n",
      "{'name': 'KUSTER, ANN MCLANE', 'race': 5.0, 'region': 'Most liberal', 'win': 'W', 'number_of_donors': 27384, 'amount': 2657957, 'party': '100', 'ideo': -1.681281}\n",
      "-1.681281\n",
      "{'name': 'ALTSCHULER, RANDOLPH MR.', 'race': 5.0, 'region': 'Most liberal', 'win': 'L', 'number_of_donors': 1118, 'amount': 1890187, 'party': '200', 'ideo': 0.598152}\n",
      "0.598152\n",
      "{'name': 'TRIVEDI, MANAN', 'race': 15.0, 'region': 'Most liberal', 'win': 'L', 'number_of_donors': 14803, 'amount': 1057435, 'party': '100', 'ideo': -1.5944450000000001}\n",
      "-1.5944450000000001\n",
      "{'name': 'HECK, DENNIS', 'race': 17.0, 'region': 'Most liberal', 'win': 'W', 'number_of_donors': 1539, 'amount': 1213132, 'party': '100', 'ideo': -1.2273690000000002}\n",
      "-1.2273690000000002\n",
      "{'name': 'DELBENE, SUZAN K', 'race': 7.0, 'region': 'Most liberal', 'win': 'W', 'number_of_donors': 1553, 'amount': 3917704, 'party': '100', 'ideo': -1.5216920824810702}\n",
      "-1.5216920824810702\n",
      "{'name': 'PIERLUISI, PEDRO R', 'race': 1.0, 'region': 'Some liberal', 'win': 'W', 'number_of_donors': 1507, 'amount': 1735210, 'party': '100', 'ideo': -0.22363400000000003}\n",
      "-0.22363400000000003\n",
      "{'name': 'CARMONA, RICHARD', 'race': 3.0, 'region': 'Most liberal', 'win': 'L', 'number_of_donors': 11541, 'amount': 2857086, 'party': '100', 'ideo': -1.2548624794571202}\n",
      "-1.2548624794571202\n",
      "{'name': 'LINGLE, LINDA', 'race': 25.0, 'region': 'Most liberal', 'win': 'L', 'number_of_donors': 2430, 'amount': 4417427, 'party': '200', 'ideo': 0.673113586722049}\n",
      "0.673113586722049\n",
      "{'name': 'WARREN, ELIZABETH', 'race': 7.0, 'region': 'Most liberal', 'win': 'W', 'number_of_donors': 129882, 'amount': 15832198, 'party': '100', 'ideo': -1.6699591797502198}\n",
      "-1.6699591797502198\n",
      "{'name': 'KING, ANGUS STANLEY JR', 'race': 22.0, 'region': 'Most liberal', 'win': 'W', 'number_of_donors': 2803, 'amount': 2118395, 'party': '100', 'ideo': -0.873534025525394}\n",
      "-0.873534025525394\n",
      "{'name': 'HEITKAMP, HEIDI', 'race': 45.0, 'region': 'Most liberal', 'win': 'W', 'number_of_donors': 20565, 'amount': 2035309, 'party': '100', 'ideo': -1.5049138252694698}\n",
      "-1.5049138252694698\n",
      "{'name': 'FISCHER, DEBRA S', 'race': 17.0, 'region': 'Some liberal', 'win': 'W', 'number_of_donors': 2334, 'amount': 1163745, 'party': '200', 'ideo': 1.1571285570669398}\n",
      "1.1571285570669398\n",
      "{'name': 'KYRILLOS, JOSEPH M JR', 'race': 19.0, 'region': 'Some liberal', 'win': 'L', 'number_of_donors': 2843, 'amount': 4116841, 'party': '200', 'ideo': 0.404757861224829}\n",
      "0.404757861224829\n",
      "{'name': 'SMITH, TOM', 'race': 9.0, 'region': 'Most liberal', 'win': 'L', 'number_of_donors': 2258, 'amount': 2816504, 'party': '200', 'ideo': 1.08609728688612}\n",
      "1.08609728688612\n",
      "{'name': 'CRUZ, RAFAEL EDWARD TED', 'race': 16.0, 'region': 'Most conservative', 'win': 'W', 'number_of_donors': 6591, 'amount': 7294898, 'party': '200', 'ideo': 1.28471927934808}\n",
      "1.28471927934808\n",
      "{'name': 'KAINE, TIMOTHY MICHAEL', 'race': 5.0, 'region': 'Most liberal', 'win': 'W', 'number_of_donors': 12576, 'amount': 9885621, 'party': '100', 'ideo': -1.084158}\n",
      "-1.084158\n",
      "{'name': 'THOMPSON, TOMMY G', 'race': 6.0, 'region': 'Most liberal', 'win': 'L', 'number_of_donors': 4326, 'amount': 5171714, 'party': '200', 'ideo': 1.01657615842268}\n",
      "1.01657615842268\n",
      "{'name': 'TIPTON, SCOTT R.', 'race': 12.0, 'region': 'Most liberal', 'win': 'W', 'number_of_donors': 2330, 'amount': 1536689, 'party': '200', 'ideo': 1.34267}\n",
      "1.34267\n",
      "{'name': 'WEST, ALLEN B MR.', 'race': 11.0, 'region': 'Most liberal', 'win': 'L', 'number_of_donors': 15076, 'amount': 6849181, 'party': '200', 'ideo': 1.23492760185726}\n",
      "1.23492760185726\n",
      "{'name': 'DOLD, ROBERT JAMES MR JR', 'race': 1.0, 'region': 'Most liberal', 'win': 'L', 'number_of_donors': 2116, 'amount': 3343688, 'party': '200', 'ideo': 0.786241}\n",
      "0.786241\n",
      "{'name': 'SCOTT, TIMOTHY', 'race': 29.0, 'region': 'Most conservative', 'win': 'W', 'number_of_donors': 1741, 'amount': 1047664, 'party': '200', 'ideo': 1.109442}\n",
      "1.109442\n",
      "{'name': 'CANSECO, FRANCISCO RAUL QUICO R.', 'race': 5.0, 'region': 'Most conservative', 'win': 'L', 'number_of_donors': 1084, 'amount': 1389023, 'party': '200', 'ideo': 1.1359549999999998}\n",
      "1.1359549999999998\n",
      "{'name': 'HOCHUL, KATHLEEN COURTNEY', 'race': 25.0, 'region': 'Most liberal', 'win': 'L', 'number_of_donors': 15129, 'amount': 3841084, 'party': '100', 'ideo': -1.318288}\n",
      "-1.318288\n",
      "{'name': 'HAHN, JANICE', 'race': 19.0, 'region': 'Most liberal', 'win': 'W', 'number_of_donors': 4358, 'amount': 1696876, 'party': '100', 'ideo': -1.034918}\n",
      "-1.034918\n",
      "{'name': 'ENYART, WILLIAM L JR', 'race': 88.0, 'region': 'Most liberal', 'win': 'W', 'number_of_donors': 10191, 'amount': 795901, 'party': '100', 'ideo': -1.5683266434739098}\n",
      "-1.5683266434739098\n",
      "{'name': 'SCHLINGENSIEPEN, TOBIAS', 'race': 18.0, 'region': 'Most conservative', 'win': 'L', 'number_of_donors': 1021, 'amount': 206500, 'party': '100', 'ideo': -1.28468076672529}\n",
      "-1.28468076672529\n",
      "{'name': 'MANCHIN, JOE III', 'race': 24.0, 'region': 'Average', 'win': 'W', 'number_of_donors': 2062, 'amount': 2425297, 'party': '100', 'ideo': -0.18909872380641002}\n",
      "-0.18909872380641002\n",
      "{'name': 'NOLAN, RICHARD MICHAEL', 'race': 9.0, 'region': 'Some liberal', 'win': 'W', 'number_of_donors': 5357, 'amount': 677736, 'party': '100', 'ideo': -1.529233}\n",
      "-1.529233\n",
      "{'name': 'MOURDOCK, RICHARD E', 'race': 5.0, 'region': 'Most liberal', 'win': 'L', 'number_of_donors': 3989, 'amount': 2809504, 'party': '200', 'ideo': 1.30632323897881}\n",
      "1.30632323897881\n",
      "{'name': 'BARR, GARLAND ANDY', 'race': 4.0, 'region': 'Some convervative', 'win': 'W', 'number_of_donors': 1251, 'amount': 1133549, 'party': '200', 'ideo': 0.964619856075186}\n",
      "0.964619856075186\n",
      "{'name': 'COTTON, THOMAS', 'race': 23.0, 'region': 'Some convervative', 'win': 'W', 'number_of_donors': 2114, 'amount': 1752886, 'party': '200', 'ideo': 0.9945709999999999}\n",
      "0.9945709999999999\n",
      "{'name': 'BARBER, RONALD', 'race': 12.0, 'region': 'Most liberal', 'win': 'W', 'number_of_donors': 7430, 'amount': 1437256, 'party': '100', 'ideo': -1.38674797089677}\n",
      "-1.38674797089677\n",
      "{'name': 'SINEMA, KYRSTEN', 'race': 4.0, 'region': 'Most liberal', 'win': 'W', 'number_of_donors': 4903, 'amount': 1748774, 'party': '100', 'ideo': -1.3066438285496598}\n",
      "-1.3066438285496598\n",
      "{'name': 'LOWENTHAL, ALAN', 'race': 9.0, 'region': 'Most liberal', 'win': 'W', 'number_of_donors': 2046, 'amount': 759355, 'party': '100', 'ideo': -0.988167}\n",
      "-0.988167\n",
      "{'name': 'BROWNLEY, JULIA', 'race': 3.0, 'region': 'Most liberal', 'win': 'W', 'number_of_donors': 5251, 'amount': 1570321, 'party': '100', 'ideo': -1.5419242372201898}\n",
      "-1.5419242372201898\n",
      "{'name': 'HERNANDEZ, JOSE M', 'race': 7.0, 'region': 'Most liberal', 'win': 'L', 'number_of_donors': 15157, 'amount': 1183192, 'party': '100', 'ideo': -1.59340770522748}\n",
      "-1.59340770522748\n",
      "{'name': 'GILL, RICKY', 'race': 7.0, 'region': 'Most liberal', 'win': 'L', 'number_of_donors': 2523, 'amount': 3394557, 'party': '200', 'ideo': 0.7792789999999999}\n",
      "0.7792789999999999\n",
      "{'name': 'RUIZ, RAUL DR.', 'race': 3.0, 'region': 'Most liberal', 'win': 'W', 'number_of_donors': 11560, 'amount': 418027, 'party': '100', 'ideo': -1.61868050576398}\n",
      "-1.61868050576398\n",
      "{'name': 'TAKANO, MARK', 'race': 15.0, 'region': 'Most liberal', 'win': 'W', 'number_of_donors': 7323, 'amount': 1373138, 'party': '100', 'ideo': -1.479267}\n",
      "-1.479267\n",
      "{'name': 'PETERS, SCOTT', 'race': 1.0, 'region': 'Most liberal', 'win': 'W', 'number_of_donors': 1266, 'amount': 6315523, 'party': '100', 'ideo': -1.26484008282549}\n",
      "-1.26484008282549\n",
      "{'name': 'PACE, SALVATORE II', 'race': 12.0, 'region': 'Most liberal', 'win': 'L', 'number_of_donors': 4907, 'amount': 1309328, 'party': '100', 'ideo': -1.483336}\n",
      "-1.483336\n",
      "{'name': 'SHAFFER, BRANDON', 'race': 24.0, 'region': 'Most liberal', 'win': 'L', 'number_of_donors': 3984, 'amount': 868465, 'party': '100', 'ideo': -1.5051139999999998}\n",
      "-1.5051139999999998\n",
      "{'name': 'MIKLOSI, JOE', 'race': 3.0, 'region': 'Most liberal', 'win': 'L', 'number_of_donors': 16043, 'amount': 949101, 'party': '100', 'ideo': -1.682837}\n",
      "-1.682837\n",
      "{'name': 'ESTY, ELIZABETH', 'race': 7.0, 'region': 'Most liberal', 'win': 'W', 'number_of_donors': 3858, 'amount': 2722715, 'party': '100', 'ideo': -1.283187}\n",
      "-1.283187\n",
      "{'name': 'RORABACK, ANDREW', 'race': 7.0, 'region': 'Most liberal', 'win': 'L', 'number_of_donors': 1092, 'amount': 1221607, 'party': '200', 'ideo': 0.514277031288368}\n",
      "0.514277031288368\n",
      "{'name': 'DEMINGS, VALDEZ VAL', 'race': 9.0, 'region': 'Most liberal', 'win': 'L', 'number_of_donors': 7446, 'amount': 1394088, 'party': '100', 'ideo': -1.381033}\n",
      "-1.381033\n",
      "{'name': 'FITZGERALD, KEITH', 'race': 12.0, 'region': 'Most liberal', 'win': 'L', 'number_of_donors': 1526, 'amount': 947600, 'party': '100', 'ideo': -1.2299286297202099}\n",
      "-1.2299286297202099\n",
      "{'name': 'FRANKEL, LOIS J.', 'race': 4.0, 'region': 'Most liberal', 'win': 'W', 'number_of_donors': 10119, 'amount': 803647, 'party': '100', 'ideo': -1.17998823006063}\n",
      "-1.17998823006063\n",
      "{'name': 'MURPHY, PATRICK', 'race': 10.0, 'region': 'Most liberal', 'win': 'W', 'number_of_donors': 22344, 'amount': 4169487, 'party': '100', 'ideo': -1.371649}\n",
      "-1.371649\n",
      "{'name': 'HASNER, ADAM', 'race': 9.0, 'region': 'Most liberal', 'win': 'L', 'number_of_donors': 2006, 'amount': 2524456, 'party': '200', 'ideo': 0.9183925095603549}\n",
      "0.9183925095603549\n",
      "{'name': 'VILSACK, CHRISTIE', 'race': 9.0, 'region': 'Most liberal', 'win': 'L', 'number_of_donors': 5802, 'amount': 2447968, 'party': '100', 'ideo': -1.302718}\n",
      "-1.302718\n",
      "{'name': 'LEFAVOUR, NICOLE', 'race': 31.0, 'region': 'Some liberal', 'win': 'L', 'number_of_donors': 1125, 'amount': 293525, 'party': '100', 'ideo': -1.5056531232837298}\n",
      "-1.5056531232837298\n",
      "{'name': 'SCHNEIDER, BRADLEY SCOTT', 'race': 1.0, 'region': 'Most liberal', 'win': 'W', 'number_of_donors': 5148, 'amount': 2423347, 'party': '100', 'ideo': -1.345823}\n",
      "-1.345823\n",
      "{'name': 'BUSTOS, CHERI', 'race': 7.0, 'region': 'Most liberal', 'win': 'W', 'number_of_donors': 7224, 'amount': 1399252, 'party': '100', 'ideo': -1.4527889999999999}\n",
      "-1.4527889999999999\n",
      "{'name': 'MULLEN, BRENDAN B.', 'race': 1.0, 'region': 'Most liberal', 'win': 'L', 'number_of_donors': 1205, 'amount': 502484, 'party': '100', 'ideo': -1.0922493107489901}\n",
      "-1.0922493107489901\n",
      "{'name': 'YODER, SHELLI', 'race': 17.0, 'region': 'Most liberal', 'win': 'L', 'number_of_donors': 8353, 'amount': 389392, 'party': '100', 'ideo': -1.72966848717107}\n",
      "-1.72966848717107\n",
      "{'name': 'TISEI, RICHARD R.', 'race': 1.0, 'region': 'Most liberal', 'win': 'L', 'number_of_donors': 1624, 'amount': 2028275, 'party': '200', 'ideo': 0.440135016282943}\n",
      "0.440135016282943\n",
      "{'name': 'KENNEDY, JOSEPH P III', 'race': 26.0, 'region': 'Most liberal', 'win': 'W', 'number_of_donors': 6489, 'amount': 4728639, 'party': '100', 'ideo': -1.1560967642026398}\n",
      "-1.1560967642026398\n",
      "{'name': 'DELANEY, JOHN K', 'race': 20.0, 'region': 'Most liberal', 'win': 'W', 'number_of_donors': 1358, 'amount': 5869241, 'party': '100', 'ideo': -0.745694433266073}\n",
      "-0.745694433266073\n",
      "{'name': 'KILDEE, DANIEL T', 'race': 34.0, 'region': 'Some liberal', 'win': 'L', 'number_of_donors': 1799, 'amount': 473334, 'party': '100', 'ideo': -0.97131}\n",
      "-0.97131\n",
      "{'name': 'GRAVES, JAMES JOSEPH', 'race': 1.0, 'region': 'Some liberal', 'win': 'W', 'number_of_donors': 20509, 'amount': 2467108, 'party': '100', 'ideo': -1.66441364650096}\n",
      "-1.66441364650096\n",
      "{'name': 'WAGNER, ANN L', 'race': 12.0, 'region': 'Most liberal', 'win': 'W', 'number_of_donors': 1378, 'amount': 2308343, 'party': '200', 'ideo': 0.981201}\n",
      "0.981201\n",
      "{'name': 'GULLESON, PAM', 'race': 13.0, 'region': 'Most liberal', 'win': 'L', 'number_of_donors': 1214, 'amount': 503588, 'party': '100', 'ideo': -1.2811215873179198}\n",
      "-1.2811215873179198\n",
      "{'name': 'ADLER, SHELLEY', 'race': 8.0, 'region': 'Some liberal', 'win': 'L', 'number_of_donors': 1339, 'amount': 658321, 'party': '100', 'ideo': -1.14176332235496}\n",
      "-1.14176332235496\n",
      "{'name': 'OCEGUERA, JOHN', 'race': 21.0, 'region': 'Most liberal', 'win': 'L', 'number_of_donors': 4455, 'amount': 1307946, 'party': '100', 'ideo': -0.8514229999999999}\n",
      "-0.8514229999999999\n",
      "{'name': 'HORSFORD, STEVEN ALEXZANDER', 'race': 8.0, 'region': 'Most liberal', 'win': 'W', 'number_of_donors': 2044, 'amount': 960503, 'party': '100', 'ideo': -0.8563716504604749}\n",
      "-0.8563716504604749\n",
      "{'name': 'SCHREIBMAN, JULIAN D', 'race': 7.0, 'region': 'Most liberal', 'win': 'L', 'number_of_donors': 1719, 'amount': 880997, 'party': '100', 'ideo': -1.3408123288323899}\n",
      "-1.3408123288323899\n",
      "{'name': 'MENG, GRACE', 'race': 36.0, 'region': 'Most liberal', 'win': 'W', 'number_of_donors': 2306, 'amount': 1599039, 'party': '100', 'ideo': -1.04824768614325}\n",
      "-1.04824768614325\n",
      "{'name': 'JEFFRIES, HAKEEM', 'race': 89.0, 'region': 'Most liberal', 'win': 'W', 'number_of_donors': 2599, 'amount': 1645958, 'party': '100', 'ideo': -0.888864}\n",
      "-0.888864\n",
      "{'name': 'MURPHY, MARK', 'race': 64.0, 'region': 'Most liberal', 'win': 'L', 'number_of_donors': 1589, 'amount': 729342, 'party': '100', 'ideo': -1.03173746570313}\n",
      "-1.03173746570313\n",
      "{'name': 'SHINAGAWA, NATHAN', 'race': 3.0, 'region': 'Most liberal', 'win': 'L', 'number_of_donors': 2162, 'amount': 673954, 'party': '328', 'ideo': -1.61296639074476}\n",
      "-1.61296639074476\n",
      "{'name': 'MALONEY, SEAN PATRICK', 'race': 13.0, 'region': 'Most liberal', 'win': 'W', 'number_of_donors': 5859, 'amount': 2009946, 'party': '100', 'ideo': -1.4294849500632}\n",
      "-1.4294849500632\n",
      "{'name': 'BEATTY, JOYCE', 'race': 7.0, 'region': 'Some liberal', 'win': 'W', 'number_of_donors': 1254, 'amount': 464166, 'party': '100', 'ideo': -0.6651049882113399}\n",
      "-0.6651049882113399\n",
      "{'name': 'ZIMMANN, ANGELA KAY', 'race': 18.0, 'region': 'Some liberal', 'win': 'L', 'number_of_donors': 1272, 'amount': 375288, 'party': '100', 'ideo': -1.3735524824019398}\n",
      "-1.3735524824019398\n",
      "{'name': 'WALLACE, ROB', 'race': 19.0, 'region': 'Some convervative', 'win': 'L', 'number_of_donors': 1090, 'amount': 951347, 'party': '100', 'ideo': -0.428743461520449}\n",
      "-0.428743461520449\n",
      "{'name': 'BONAMICI, SUZANNE', 'race': 28.0, 'region': 'Most liberal', 'win': 'W', 'number_of_donors': 3591, 'amount': 1450102, 'party': '100', 'ideo': -1.307721}\n",
      "-1.307721\n",
      "{'name': 'RICE, TOM', 'race': 91.0, 'region': 'Most conservative', 'win': 'W', 'number_of_donors': 1140, 'amount': 1283609, 'party': '200', 'ideo': 0.940073711666342}\n",
      "0.940073711666342\n",
      "{'name': 'VARILEK, MATT', 'race': 15.0, 'region': 'Some convervative', 'win': 'L', 'number_of_donors': 1018, 'amount': 591358, 'party': '100', 'ideo': -1.07497874794355}\n",
      "-1.07497874794355\n",
      "{'name': 'GALLEGO, PETE', 'race': 5.0, 'region': 'Most conservative', 'win': 'W', 'number_of_donors': 3040, 'amount': 1282389, 'party': '100', 'ideo': -0.293187}\n",
      "-0.293187\n",
      "{'name': 'WILLIAMS, ROGER', 'race': 5.0, 'region': 'Most conservative', 'win': 'W', 'number_of_donors': 1781, 'amount': 3114476, 'party': '200', 'ideo': 1.191267}\n",
      "1.191267\n",
      "{'name': 'LOVE, MIA', 'race': 1.0, 'region': 'Most conservative', 'win': 'L', 'number_of_donors': 13403, 'amount': 2473370, 'party': '200', 'ideo': 1.2376516155968997}\n",
      "1.2376516155968997\n",
      "{'name': 'HIRSCHBIEL, PAUL ODELL JR', 'race': 7.0, 'region': 'Most liberal', 'win': 'L', 'number_of_donors': 1233, 'amount': 1723059, 'party': '100', 'ideo': -0.909698}\n",
      "-0.909698\n",
      "{'name': 'POWELL, ERNEST WAYNE', 'race': 17.0, 'region': 'Most liberal', 'win': 'L', 'number_of_donors': 7860, 'amount': 1099639, 'party': '100', 'ideo': -1.7443950000000001}\n",
      "-1.7443950000000001\n",
      "{'name': 'DOUGLASS, JOHN WADE', 'race': 13.0, 'region': 'Most liberal', 'win': 'L', 'number_of_donors': 2373, 'amount': 1237133, 'party': '100', 'ideo': -1.25884}\n",
      "-1.25884\n",
      "{'name': 'KILMER, DEREK', 'race': 17.0, 'region': 'Most liberal', 'win': 'W', 'number_of_donors': 1647, 'amount': 1184853, 'party': '100', 'ideo': -1.1929330604985}\n",
      "-1.1929330604985\n",
      "{'name': 'ZERBAN, ROB', 'race': 11.0, 'region': 'Most liberal', 'win': 'L', 'number_of_donors': 23841, 'amount': 2146647, 'party': '100', 'ideo': -1.7651709999999998}\n",
      "-1.7651709999999998\n",
      "{'name': 'POCAN, MARK', 'race': 37.0, 'region': 'Most liberal', 'win': 'W', 'number_of_donors': 3526, 'amount': 492631, 'party': '100', 'ideo': -1.47659546255652}\n",
      "-1.47659546255652\n",
      "{'name': 'KREITLOW, PATRICK', 'race': 13.0, 'region': 'Most liberal', 'win': 'L', 'number_of_donors': 4264, 'amount': 673734, 'party': '100', 'ideo': -1.357373}\n",
      "-1.357373\n",
      "{'name': 'THORN, SUSAN CAROL', 'race': 25.0, 'region': 'Average', 'win': 'L', 'number_of_donors': 1053, 'amount': 183961, 'party': '100', 'ideo': -1.33522750730579}\n",
      "-1.33522750730579\n",
      "{'name': 'KEEVER, PATRICIA R', 'race': 15.0, 'region': 'Average', 'win': 'L', 'number_of_donors': 1217, 'amount': 376352, 'party': '100', 'ideo': -1.28895000987324}\n",
      "-1.28895000987324\n",
      "{'name': 'KERREY, J ROBERT (BOB) SENATOR', 'race': 17.0, 'region': 'Some liberal', 'win': 'L', 'number_of_donors': 7319, 'amount': 1731148, 'party': '100', 'ideo': -0.7669270547140609}\n",
      "-0.7669270547140609\n",
      "{'name': 'BACHMANN, MICHELE', 'race': 45.0, 'region': 'Some liberal', 'win': 'L', 'number_of_donors': 5034, 'amount': 798756, 'party': '200', 'ideo': 1.3428254433271203}\n",
      "1.3428254433271203\n",
      "{'name': 'GILLIBRAND, KIRSTEN ELIZABETH MRS', 'race': 45.0, 'region': 'Most liberal', 'win': 'W', 'number_of_donors': 12433, 'amount': 1347499, 'party': '100', 'ideo': -1.1331762480301102}\n",
      "-1.1331762480301102\n"
     ]
    }
   ],
   "source": [
    "#Ok, now we can access the graph with full information.\n",
    "#Do some analysis on this now that we have things like the ideo. Specifically:\n",
    "# H1.add_node(recipient_name_2, name=recipient_name_2,race=recipient_race_2,region=recipient_region_2,\n",
    "#                            win=recipient_win_2, number_of_donors=recipient_number_of_contributers_2,\n",
    "#                            amount=recipient_amount_2,party=recipient_party_2, ideo=recipient_ideo_2)\n",
    "\n",
    "#relationship/correlation between amount received and ideo?\n",
    "#For edges in the graph:\n",
    "    #relationship between weight (num donors in common) and ideo of the recipients? ideo isn't what you'd think\n",
    "    #relationship between weight (num donors in common) and amount each recipient received?\n",
    "    #region: Most liberal, Some liberal, Most conservative, Some conservative, and Average. Maybe can correlate? idk.\n",
    "    #people who won probably were donated more. Start there.\n",
    "H1 = nx.read_gpickle(\"codonor_graph_gpickle_test.gpickle\")\n",
    "\n",
    "for v in H1.nodes():\n",
    "    print(H1.node[v])\n",
    "    print(H1.node[v]['ideo'])"
   ]
  },
  {
   "cell_type": "code",
   "execution_count": null,
   "metadata": {},
   "outputs": [],
   "source": []
  }
 ],
 "metadata": {
  "kernelspec": {
   "display_name": "Python 3",
   "language": "python",
   "name": "python3"
  },
  "language_info": {
   "codemirror_mode": {
    "name": "ipython",
    "version": 3
   },
   "file_extension": ".py",
   "mimetype": "text/x-python",
   "name": "python",
   "nbconvert_exporter": "python",
   "pygments_lexer": "ipython3",
   "version": "3.6.5"
  }
 },
 "nbformat": 4,
 "nbformat_minor": 2
}
